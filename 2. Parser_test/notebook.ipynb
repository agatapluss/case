{
 "cells": [
  {
   "cell_type": "markdown",
   "id": "e6ce2d38",
   "metadata": {
    "toc": true
   },
   "source": [
    "<h1>Table of Contents<span class=\"tocSkip\"></span></h1>\n",
    "<div class=\"toc\"><ul class=\"toc-item\"><li><span><a href=\"#Задание\" data-toc-modified-id=\"Задание-1\"><span class=\"toc-item-num\">1&nbsp;&nbsp;</span>Задание</a></span><ul class=\"toc-item\"><li><span><a href=\"#Импорт-библиотек\" data-toc-modified-id=\"Импорт-библиотек-1.1\"><span class=\"toc-item-num\">1.1&nbsp;&nbsp;</span>Импорт библиотек</a></span></li><li><span><a href=\"#Знакомство-с-данными\" data-toc-modified-id=\"Знакомство-с-данными-1.2\"><span class=\"toc-item-num\">1.2&nbsp;&nbsp;</span>Знакомство с данными</a></span></li><li><span><a href=\"#Rules\" data-toc-modified-id=\"Rules-1.3\"><span class=\"toc-item-num\">1.3&nbsp;&nbsp;</span>Rules</a></span><ul class=\"toc-item\"><li><span><a href=\"#Greeting\" data-toc-modified-id=\"Greeting-1.3.1\"><span class=\"toc-item-num\">1.3.1&nbsp;&nbsp;</span>Greeting</a></span></li><li><span><a href=\"#Meeting\" data-toc-modified-id=\"Meeting-1.3.2\"><span class=\"toc-item-num\">1.3.2&nbsp;&nbsp;</span>Meeting</a></span><ul class=\"toc-item\"><li><span><a href=\"#Manager's-name\" data-toc-modified-id=\"Manager's-name-1.3.2.1\"><span class=\"toc-item-num\">1.3.2.1&nbsp;&nbsp;</span>Manager's name</a></span></li></ul></li><li><span><a href=\"#Company\" data-toc-modified-id=\"Company-1.3.3\"><span class=\"toc-item-num\">1.3.3&nbsp;&nbsp;</span>Company</a></span></li><li><span><a href=\"#Bye\" data-toc-modified-id=\"Bye-1.3.4\"><span class=\"toc-item-num\">1.3.4&nbsp;&nbsp;</span>Bye</a></span></li></ul></li><li><span><a href=\"#ManagerChecker\" data-toc-modified-id=\"ManagerChecker-1.4\"><span class=\"toc-item-num\">1.4&nbsp;&nbsp;</span>ManagerChecker</a></span></li></ul></li></ul></div>"
   ]
  },
  {
   "cell_type": "markdown",
   "id": "6307a6b7",
   "metadata": {},
   "source": [
    "# Задание\n",
    "\n",
    "\n",
    "Необходимо написать скрипт для парсинга диалогов из файла test_data.csv. \n",
    "Получившийся скрипт необходимо выложить в гит репозиторий и прислать ссылку в качестве результата прохождения тестового задания. Данные выкладывать в гит не следует. \n",
    "Главные задачи, которые должен выполнять скрипт:\n",
    "1. Извлекать реплики с приветствием – где менеджер поздоровался. \n",
    "2. Извлекать реплики, где менеджер представил себя. \n",
    "3. Извлекать имя менеджера. \n",
    "4. Извлекать название компании. \n",
    "5. Извлекать реплики, где менеджер попрощался.\n",
    "6. Проверять требование к менеджеру: «В каждом диалоге обязательно необходимо поздороваться и попрощаться с клиентом»\n",
    "\n",
    "\n",
    "Рекомендации:\n",
    "* Сделать локальную копию файла test_data.csv, в исходнике никакие данные не менять!\n",
    "* Можно создать дополнительное поле в таблице test_data.csv, куда будет сохраняться результат парсинга – например, напротив реплики в столбце “insight” можно ставить флаг того, что эта реплика с приветствием greeting=True.\n",
    "* Для выполнения задачи можно использовать любые библиотеки и NLP модели. \n",
    "* Попробуйте учесть возможные синонимичные выражения, которые могут помочь с извлечением данных сущностей.\n",
    "\n"
   ]
  },
  {
   "cell_type": "markdown",
   "id": "955dc241",
   "metadata": {},
   "source": [
    "## Импорт библиотек"
   ]
  },
  {
   "cell_type": "code",
   "execution_count": 1,
   "id": "6ab7b014",
   "metadata": {},
   "outputs": [],
   "source": [
    "import pandas as pd\n",
    "from natasha import NamesExtractor, MorphVocab\n",
    "from ipymarkup import show_span_box_markup as show_markup\n",
    "from yargy import rule, Parser, or_\n",
    "from yargy.predicates import eq, gram\n",
    "from yargy.pipelines import morph_pipeline\n",
    "from yargy.interpretation import fact"
   ]
  },
  {
   "cell_type": "markdown",
   "id": "575c96b1",
   "metadata": {},
   "source": [
    "## Знакомство с данными"
   ]
  },
  {
   "cell_type": "code",
   "execution_count": 2,
   "id": "e94b655d",
   "metadata": {},
   "outputs": [
    {
     "data": {
      "text/html": [
       "<div>\n",
       "<style scoped>\n",
       "    .dataframe tbody tr th:only-of-type {\n",
       "        vertical-align: middle;\n",
       "    }\n",
       "\n",
       "    .dataframe tbody tr th {\n",
       "        vertical-align: top;\n",
       "    }\n",
       "\n",
       "    .dataframe thead th {\n",
       "        text-align: right;\n",
       "    }\n",
       "</style>\n",
       "<table border=\"1\" class=\"dataframe\">\n",
       "  <thead>\n",
       "    <tr style=\"text-align: right;\">\n",
       "      <th></th>\n",
       "      <th>dlg_id</th>\n",
       "      <th>line_n</th>\n",
       "      <th>role</th>\n",
       "      <th>text</th>\n",
       "    </tr>\n",
       "  </thead>\n",
       "  <tbody>\n",
       "    <tr>\n",
       "      <th>0</th>\n",
       "      <td>0</td>\n",
       "      <td>0</td>\n",
       "      <td>client</td>\n",
       "      <td>Алло</td>\n",
       "    </tr>\n",
       "    <tr>\n",
       "      <th>1</th>\n",
       "      <td>0</td>\n",
       "      <td>1</td>\n",
       "      <td>manager</td>\n",
       "      <td>Алло здравствуйте</td>\n",
       "    </tr>\n",
       "    <tr>\n",
       "      <th>2</th>\n",
       "      <td>0</td>\n",
       "      <td>2</td>\n",
       "      <td>client</td>\n",
       "      <td>Добрый день</td>\n",
       "    </tr>\n",
       "    <tr>\n",
       "      <th>3</th>\n",
       "      <td>0</td>\n",
       "      <td>3</td>\n",
       "      <td>manager</td>\n",
       "      <td>Меня зовут ангелина компания диджитал бизнес з...</td>\n",
       "    </tr>\n",
       "    <tr>\n",
       "      <th>4</th>\n",
       "      <td>0</td>\n",
       "      <td>4</td>\n",
       "      <td>client</td>\n",
       "      <td>Ага</td>\n",
       "    </tr>\n",
       "    <tr>\n",
       "      <th>5</th>\n",
       "      <td>0</td>\n",
       "      <td>5</td>\n",
       "      <td>manager</td>\n",
       "      <td>Угу ну возможно вы рассмотрите и другие вариан...</td>\n",
       "    </tr>\n",
       "    <tr>\n",
       "      <th>6</th>\n",
       "      <td>0</td>\n",
       "      <td>6</td>\n",
       "      <td>client</td>\n",
       "      <td>Да мы работаем с компанией которая нам подлива...</td>\n",
       "    </tr>\n",
       "    <tr>\n",
       "      <th>7</th>\n",
       "      <td>0</td>\n",
       "      <td>7</td>\n",
       "      <td>client</td>\n",
       "      <td>Как как бы уже до этого момента работаем все у...</td>\n",
       "    </tr>\n",
       "    <tr>\n",
       "      <th>8</th>\n",
       "      <td>0</td>\n",
       "      <td>8</td>\n",
       "      <td>manager</td>\n",
       "      <td>Угу а на что вы обращаете внимание при выборе</td>\n",
       "    </tr>\n",
       "    <tr>\n",
       "      <th>9</th>\n",
       "      <td>0</td>\n",
       "      <td>9</td>\n",
       "      <td>client</td>\n",
       "      <td>Как бы нет</td>\n",
       "    </tr>\n",
       "  </tbody>\n",
       "</table>\n",
       "</div>"
      ],
      "text/plain": [
       "   dlg_id  line_n     role                                               text\n",
       "0       0       0   client                                               Алло\n",
       "1       0       1  manager                                  Алло здравствуйте\n",
       "2       0       2   client                                        Добрый день\n",
       "3       0       3  manager  Меня зовут ангелина компания диджитал бизнес з...\n",
       "4       0       4   client                                                Ага\n",
       "5       0       5  manager  Угу ну возможно вы рассмотрите и другие вариан...\n",
       "6       0       6   client  Да мы работаем с компанией которая нам подлива...\n",
       "7       0       7   client  Как как бы уже до этого момента работаем все у...\n",
       "8       0       8  manager      Угу а на что вы обращаете внимание при выборе\n",
       "9       0       9   client                                         Как бы нет"
      ]
     },
     "execution_count": 2,
     "metadata": {},
     "output_type": "execute_result"
    }
   ],
   "source": [
    "df = pd.read_csv('test_data.csv')\n",
    "\n",
    "df.head(10)"
   ]
  },
  {
   "cell_type": "code",
   "execution_count": 3,
   "id": "ab00b56b",
   "metadata": {},
   "outputs": [
    {
     "data": {
      "text/plain": [
       "array([0, 1, 2, 3, 4, 5], dtype=int64)"
      ]
     },
     "execution_count": 3,
     "metadata": {},
     "output_type": "execute_result"
    }
   ],
   "source": [
    "# Номера уникальных диалогов\n",
    "\n",
    "df.dlg_id.unique()"
   ]
  },
  {
   "cell_type": "code",
   "execution_count": 4,
   "id": "c2b2f89a",
   "metadata": {},
   "outputs": [
    {
     "data": {
      "text/plain": [
       "array(['client', 'manager'], dtype=object)"
      ]
     },
     "execution_count": 4,
     "metadata": {},
     "output_type": "execute_result"
    }
   ],
   "source": [
    "# Уникальные роли\n",
    "\n",
    "df.role.unique()"
   ]
  },
  {
   "cell_type": "markdown",
   "id": "612d9ba6",
   "metadata": {},
   "source": [
    "## Rules"
   ]
  },
  {
   "cell_type": "markdown",
   "id": "8cca2cbd",
   "metadata": {},
   "source": [
    "### Greeting\n",
    "Реплики с приветствием – где менеджер поздоровался. "
   ]
  },
  {
   "cell_type": "code",
   "execution_count": 5,
   "id": "1c16ee8b",
   "metadata": {},
   "outputs": [],
   "source": [
    "TIMES = morph_pipeline([\n",
    "    'утро',\n",
    "    'день',\n",
    "    'вечер',\n",
    "    'ночь'\n",
    "])\n",
    "\n",
    "ADJF_G = morph_pipeline([\n",
    "    'добрый'\n",
    "])\n",
    "\n",
    "\n",
    "GREETING = rule(or_(\n",
    "    morph_pipeline(['здравствуйте']),\n",
    "    rule(ADJF_G,\n",
    "        TIMES.optional())))"
   ]
  },
  {
   "cell_type": "markdown",
   "id": "a3f0a2e8",
   "metadata": {},
   "source": [
    "### Meeting\n",
    "Реплики, где менеджер представил себя."
   ]
  },
  {
   "cell_type": "code",
   "execution_count": 6,
   "id": "cc892f4c",
   "metadata": {},
   "outputs": [],
   "source": [
    "NAMING = morph_pipeline([\n",
    "    'зовут',\n",
    "    'меня зовут', \n",
    "    'моё имя'])\n",
    "\n",
    "OTHER_M = morph_pipeline(['да это'])\n",
    "\n",
    "\n",
    "MEETING = rule(or_(NAMING, OTHER_M))\n"
   ]
  },
  {
   "cell_type": "markdown",
   "id": "357f93f8",
   "metadata": {},
   "source": [
    "#### Manager's name\n",
    "Извлекать имя менеджера."
   ]
  },
  {
   "cell_type": "code",
   "execution_count": 7,
   "id": "c070c655",
   "metadata": {},
   "outputs": [],
   "source": [
    "morph_vocab = MorphVocab()"
   ]
  },
  {
   "cell_type": "markdown",
   "id": "c78ca2a0",
   "metadata": {},
   "source": [
    "### Company\n",
    "Извлекать название компании."
   ]
  },
  {
   "cell_type": "code",
   "execution_count": 8,
   "id": "89880b88",
   "metadata": {},
   "outputs": [],
   "source": [
    "Company = fact(\n",
    "    'Company',\n",
    "    ['company_name'])\n",
    "\n",
    "\n",
    "COMPANY = morph_pipeline([\n",
    "    'диджитал бизнес',\n",
    "    'китобизнес']\n",
    ").interpretation(Company.company_name)"
   ]
  },
  {
   "cell_type": "markdown",
   "id": "4de4b72d",
   "metadata": {},
   "source": [
    "### Bye\n",
    "Извлекать реплики, где менеджер попрощался."
   ]
  },
  {
   "cell_type": "code",
   "execution_count": 9,
   "id": "daf6417c",
   "metadata": {},
   "outputs": [],
   "source": [
    "ADJF_B = morph_pipeline([\n",
    "    'добрый',\n",
    "    'хороший'])\n",
    "\n",
    "\n",
    "BYE = rule(or_(morph_pipeline(['до свидания']),\n",
    "               rule(eq('всего'), ADJF_B),\n",
    "               rule(ADJF_B,TIMES))) "
   ]
  },
  {
   "cell_type": "markdown",
   "id": "a85d86c4",
   "metadata": {},
   "source": [
    "## ManagerChecker"
   ]
  },
  {
   "cell_type": "code",
   "execution_count": 10,
   "id": "264b9f15",
   "metadata": {},
   "outputs": [],
   "source": [
    "class ManagerChecker:\n",
    "    \n",
    "    def __init__(self):\n",
    "        self.greeting = Parser(GREETING)\n",
    "        self.meeting = Parser(MEETING)\n",
    "        self.extractor = NamesExtractor(morph_vocab)\n",
    "        self.company = Parser(COMPANY)\n",
    "        self.bye = Parser(BYE)\n",
    "        self.name = {} # Словарь для хранения имен менеджера\n",
    "        self.has_greeting = {} # Словарь для хранения факта было ли приветствие в диалоге\n",
    "        self.has_bye = {}  # Словарь для хранения факта было ли прощания в диалоге\n",
    "        self.checker = {} # Словарь для хранения факта было ли ПРОЩАНИЕ И ПРИВЕТСТВИЕ  в диалоге\n",
    "        self.name_company = {} # Словарь для хранения названия компании\n",
    "        \n",
    "    \n",
    "    \n",
    "    def __call__(self, df):\n",
    "        for  dlg_id  in df.dlg_id.unique():\n",
    "            self.parser(df, dlg_id)\n",
    "        \n",
    "        \n",
    "    \n",
    "    @staticmethod    \n",
    "    def preprocessing(df, dlg_id, start_dlg):\n",
    "        \"\"\"preprocessing - функция, которая подготавливает данные к парсингу:\n",
    "            1. Исключаем реплики клиента;\n",
    "            2. Выделяем реплики, которые относятся к одному диалогу;\n",
    "            3. Берём колонку c репликами - text\n",
    "            4. В зависимости от контекста берём ту часть диалога, где более вероятно встретить ту или иную реплику.\n",
    "                Например: Приветствие будут искать в начале диалога, прощание - в конце.\n",
    "                Это нужно для того, чтобы скрипт быстрее отрабатывал.\n",
    "            5. Приведение к нижнему регистру\"\"\"\n",
    "        if start_dlg:\n",
    "            df_ = df[(df['role'] == 'manager') &\n",
    "                         (df['dlg_id'] == dlg_id)]['text'][:10]\n",
    "            return df_.apply(lambda _: _.lower())\n",
    "            \n",
    "        else:\n",
    "            df_ = df[(df['role'] == 'manager') &\n",
    "                         (df['dlg_id'] == dlg_id)]['text'][-10:]\n",
    "            return df_.apply(lambda _: _.lower())\n",
    "    \n",
    "                  \n",
    "                \n",
    "    def get_greeting(self, df, dlg_id):\n",
    "        \"\"\"get_greeting - извлекать реплики с приветствием – где менеджер поздоровался из диалога.\n",
    "           А также записывает has_greeting факт было ли приветствие в диалоге\"\"\"\n",
    "        self.has_greeting[dlg_id] = False\n",
    "        df_ = self.preprocessing(df,  dlg_id = dlg_id, start_dlg = True)\n",
    "        for line in df_:\n",
    "            matches =list(self.greeting.findall(line))\n",
    "            spans = [_.span for _ in matches]\n",
    "            if len(spans):\n",
    "                self.has_greeting[dlg_id] = True\n",
    "                show_markup(line, spans)\n",
    "                \n",
    "            \n",
    "            \n",
    "    def get_meeting(self, df, dlg_id):\n",
    "        \"\"\"get_meeting -  функция, которая извлекает реплики, в которых менеджер представил себя.\n",
    "        Также из контекста дастаём имя менеджера\"\"\"\n",
    "        self.name[dlg_id] = None\n",
    "        df_ = self.preprocessing(df,  dlg_id=dlg_id, start_dlg = True)\n",
    "        for line in df_:\n",
    "            matches =list(self.meeting.findall(line))    \n",
    "            spans = [_.span for _ in matches]\n",
    "            if len(spans):\n",
    "                match_name = self.extractor(line)\n",
    "                for match in match_name:\n",
    "                    start, stop = match.start, match.stop\n",
    "                    if match.fact.first:\n",
    "                        show_markup(line, spans)\n",
    "                        self.name[dlg_id] = match.fact.first\n",
    "       \n",
    "        \n",
    "            \n",
    "    def get_company(self, df, dlg_id):\n",
    "        \"\"\"get_company - извлекает название компании\"\"\"\n",
    "        self.name_company[dlg_id] = None\n",
    "        df_ = self.preprocessing(df,  dlg_id =  dlg_id, start_dlg = True)\n",
    "        for line in df_:\n",
    "            matches =list(self.company.findall(line))    \n",
    "            facts = [_.fact for _ in matches]\n",
    "            if len(facts) == 1:\n",
    "                self.name_company[dlg_id] = facts[0]\n",
    "                display(self.name_company[dlg_id])\n",
    "       \n",
    "            \n",
    "    \n",
    "    def get_bye(self, df, dlg_id):\n",
    "        \"\"\"get_bye - извлекать реплики с прощанием.\n",
    "           А также записывает в has_bye факт было ли прощание в диалоге\"\"\"\n",
    "        self.has_bye[dlg_id] = False\n",
    "        df_ = self.preprocessing(df,  dlg_id =  dlg_id, start_dlg = False)\n",
    "        for line in df_:\n",
    "            matches =list(self.bye.findall(line))    \n",
    "            spans = [_.span for _ in matches]\n",
    "            if len(spans):\n",
    "                self.has_bye[dlg_id] = True\n",
    "                show_markup(line, spans)\n",
    "                \n",
    "                \n",
    "                \n",
    "    def get_check(self, df,  dlg_id):\n",
    "        \"\"\"Проверка требование к менеджеру: \n",
    "        «В каждом диалоге обязательно необходимо поздороваться и попрощаться с клиентом»\n",
    "        Если два условия выполнены, вернётся True\n",
    "        Если хотя бы одно условие не выполнено, вернётся False\n",
    "        \"\"\"\n",
    "        self.checker[dlg_id] = self.has_greeting[dlg_id] and self.has_bye[dlg_id]\n",
    "        return self.checker[dlg_id] \n",
    "    \n",
    "    \n",
    "                \n",
    "    def parser(self, df, dlg_id):\n",
    "        print(f'ДИАЛОГ НОМЕР {dlg_id}')\n",
    "        print('Pеплики с приветствием – где менеджер поздоровался:')\n",
    "        self.get_greeting(df,  dlg_id)\n",
    "        print('Реплики, где менеджер представил себя :')\n",
    "        self.get_meeting(df, dlg_id)\n",
    "        print('Имя менеджера : ')\n",
    "        display(self.name[dlg_id])\n",
    "        print('Название компании :')\n",
    "        self.get_company(df, dlg_id)\n",
    "        print('Pеплики, где менеджер попрощался :')\n",
    "        self.get_bye(df, dlg_id) \n",
    "        print('Проверка требование к менеджеру: «необходимо поздороваться и попрощаться с клиентом» :')\n",
    "        print(self.get_check(df, dlg_id))\n",
    "        print('=====================================================')\n",
    "    "
   ]
  },
  {
   "cell_type": "code",
   "execution_count": 11,
   "id": "a0b7b9c1",
   "metadata": {},
   "outputs": [
    {
     "name": "stdout",
     "output_type": "stream",
     "text": [
      "ДИАЛОГ НОМЕР 0\n",
      "Pеплики с приветствием – где менеджер поздоровался:\n"
     ]
    },
    {
     "data": {
      "text/html": [
       "<div class=\"tex2jax_ignore\" style=\"white-space: pre-wrap\">алло <span style=\"padding: 2px; border-radius: 4px; border: 1px solid #bbdefb; background: #e3f2fd\">здравствуйте</span></div>"
      ],
      "text/plain": [
       "<IPython.core.display.HTML object>"
      ]
     },
     "metadata": {},
     "output_type": "display_data"
    },
    {
     "name": "stdout",
     "output_type": "stream",
     "text": [
      "Реплики, где менеджер представил себя :\n"
     ]
    },
    {
     "data": {
      "text/html": [
       "<div class=\"tex2jax_ignore\" style=\"white-space: pre-wrap\"><span style=\"padding: 2px; border-radius: 4px; border: 1px solid #bbdefb; background: #e3f2fd\">меня зовут</span> ангелина компания диджитал бизнес звоним вам по поводу продления лицензии а мы с серым у вас скоро срок заканчивается</div>"
      ],
      "text/plain": [
       "<IPython.core.display.HTML object>"
      ]
     },
     "metadata": {},
     "output_type": "display_data"
    },
    {
     "name": "stdout",
     "output_type": "stream",
     "text": [
      "Имя менеджера : \n"
     ]
    },
    {
     "data": {
      "text/plain": [
       "'ангелина'"
      ]
     },
     "metadata": {},
     "output_type": "display_data"
    },
    {
     "name": "stdout",
     "output_type": "stream",
     "text": [
      "Название компании :\n"
     ]
    },
    {
     "data": {
      "text/plain": [
       "'диджитал бизнес'"
      ]
     },
     "metadata": {},
     "output_type": "display_data"
    },
    {
     "name": "stdout",
     "output_type": "stream",
     "text": [
      "Pеплики, где менеджер попрощался :\n"
     ]
    },
    {
     "data": {
      "text/html": [
       "<div class=\"tex2jax_ignore\" style=\"white-space: pre-wrap\"><span style=\"padding: 2px; border-radius: 4px; border: 1px solid #bbdefb; background: #e3f2fd\">всего хорошего</span> <span style=\"padding: 2px; border-radius: 4px; border: 1px solid #bbdefb; background: #e3f2fd\">до свидания</span></div>"
      ],
      "text/plain": [
       "<IPython.core.display.HTML object>"
      ]
     },
     "metadata": {},
     "output_type": "display_data"
    },
    {
     "name": "stdout",
     "output_type": "stream",
     "text": [
      "Проверка требование к менеджеру: «необходимо поздороваться и попрощаться с клиентом» :\n",
      "True\n",
      "=====================================================\n",
      "ДИАЛОГ НОМЕР 1\n",
      "Pеплики с приветствием – где менеджер поздоровался:\n"
     ]
    },
    {
     "data": {
      "text/html": [
       "<div class=\"tex2jax_ignore\" style=\"white-space: pre-wrap\">алло <span style=\"padding: 2px; border-radius: 4px; border: 1px solid #bbdefb; background: #e3f2fd\">здравствуйте</span></div>"
      ],
      "text/plain": [
       "<IPython.core.display.HTML object>"
      ]
     },
     "metadata": {},
     "output_type": "display_data"
    },
    {
     "name": "stdout",
     "output_type": "stream",
     "text": [
      "Реплики, где менеджер представил себя :\n"
     ]
    },
    {
     "data": {
      "text/html": [
       "<div class=\"tex2jax_ignore\" style=\"white-space: pre-wrap\"><span style=\"padding: 2px; border-radius: 4px; border: 1px solid #bbdefb; background: #e3f2fd\">меня зовут</span> ангелина компания диджитал бизнес звоню вам по поводу продления а мы сели обратила внимание что у вас срок заканчивается</div>"
      ],
      "text/plain": [
       "<IPython.core.display.HTML object>"
      ]
     },
     "metadata": {},
     "output_type": "display_data"
    },
    {
     "name": "stdout",
     "output_type": "stream",
     "text": [
      "Имя менеджера : \n"
     ]
    },
    {
     "data": {
      "text/plain": [
       "'ангелина'"
      ]
     },
     "metadata": {},
     "output_type": "display_data"
    },
    {
     "name": "stdout",
     "output_type": "stream",
     "text": [
      "Название компании :\n"
     ]
    },
    {
     "data": {
      "text/plain": [
       "'диджитал бизнес'"
      ]
     },
     "metadata": {},
     "output_type": "display_data"
    },
    {
     "name": "stdout",
     "output_type": "stream",
     "text": [
      "Pеплики, где менеджер попрощался :\n"
     ]
    },
    {
     "data": {
      "text/html": [
       "<div class=\"tex2jax_ignore\" style=\"white-space: pre-wrap\">угу да вижу я эту почту хорошо тогда исправлю на эту будем ждать ответа <span style=\"padding: 2px; border-radius: 4px; border: 1px solid #bbdefb; background: #e3f2fd\">всего хорошего</span></div>"
      ],
      "text/plain": [
       "<IPython.core.display.HTML object>"
      ]
     },
     "metadata": {},
     "output_type": "display_data"
    },
    {
     "data": {
      "text/html": [
       "<div class=\"tex2jax_ignore\" style=\"white-space: pre-wrap\"><span style=\"padding: 2px; border-radius: 4px; border: 1px solid #bbdefb; background: #e3f2fd\">до свидания</span></div>"
      ],
      "text/plain": [
       "<IPython.core.display.HTML object>"
      ]
     },
     "metadata": {},
     "output_type": "display_data"
    },
    {
     "name": "stdout",
     "output_type": "stream",
     "text": [
      "Проверка требование к менеджеру: «необходимо поздороваться и попрощаться с клиентом» :\n",
      "True\n",
      "=====================================================\n",
      "ДИАЛОГ НОМЕР 2\n",
      "Pеплики с приветствием – где менеджер поздоровался:\n"
     ]
    },
    {
     "data": {
      "text/html": [
       "<div class=\"tex2jax_ignore\" style=\"white-space: pre-wrap\">алло <span style=\"padding: 2px; border-radius: 4px; border: 1px solid #bbdefb; background: #e3f2fd\">здравствуйте</span></div>"
      ],
      "text/plain": [
       "<IPython.core.display.HTML object>"
      ]
     },
     "metadata": {},
     "output_type": "display_data"
    },
    {
     "name": "stdout",
     "output_type": "stream",
     "text": [
      "Реплики, где менеджер представил себя :\n"
     ]
    },
    {
     "data": {
      "text/html": [
       "<div class=\"tex2jax_ignore\" style=\"white-space: pre-wrap\"><span style=\"padding: 2px; border-radius: 4px; border: 1px solid #bbdefb; background: #e3f2fd\">меня зовут</span> ангелина компания диджитал бизнес звоню вам по поводу продления лицензии а мастера мы с вами сотрудничали по видео там</div>"
      ],
      "text/plain": [
       "<IPython.core.display.HTML object>"
      ]
     },
     "metadata": {},
     "output_type": "display_data"
    },
    {
     "name": "stdout",
     "output_type": "stream",
     "text": [
      "Имя менеджера : \n"
     ]
    },
    {
     "data": {
      "text/plain": [
       "'ангелина'"
      ]
     },
     "metadata": {},
     "output_type": "display_data"
    },
    {
     "name": "stdout",
     "output_type": "stream",
     "text": [
      "Название компании :\n"
     ]
    },
    {
     "data": {
      "text/plain": [
       "'диджитал бизнес'"
      ]
     },
     "metadata": {},
     "output_type": "display_data"
    },
    {
     "data": {
      "text/plain": [
       "'диджитал бизнес'"
      ]
     },
     "metadata": {},
     "output_type": "display_data"
    },
    {
     "name": "stdout",
     "output_type": "stream",
     "text": [
      "Pеплики, где менеджер попрощался :\n",
      "Проверка требование к менеджеру: «необходимо поздороваться и попрощаться с клиентом» :\n",
      "False\n",
      "=====================================================\n",
      "ДИАЛОГ НОМЕР 3\n",
      "Pеплики с приветствием – где менеджер поздоровался:\n"
     ]
    },
    {
     "data": {
      "text/html": [
       "<div class=\"tex2jax_ignore\" style=\"white-space: pre-wrap\">алло дмитрий <span style=\"padding: 2px; border-radius: 4px; border: 1px solid #bbdefb; background: #e3f2fd\">добрый день</span></div>"
      ],
      "text/plain": [
       "<IPython.core.display.HTML object>"
      ]
     },
     "metadata": {},
     "output_type": "display_data"
    },
    {
     "data": {
      "text/html": [
       "<div class=\"tex2jax_ignore\" style=\"white-space: pre-wrap\"><span style=\"padding: 2px; border-radius: 4px; border: 1px solid #bbdefb; background: #e3f2fd\">добрый</span> меня максим зовут компания китобизнес удобно говорить</div>"
      ],
      "text/plain": [
       "<IPython.core.display.HTML object>"
      ]
     },
     "metadata": {},
     "output_type": "display_data"
    },
    {
     "name": "stdout",
     "output_type": "stream",
     "text": [
      "Реплики, где менеджер представил себя :\n"
     ]
    },
    {
     "data": {
      "text/html": [
       "<div class=\"tex2jax_ignore\" style=\"white-space: pre-wrap\">добрый меня максим <span style=\"padding: 2px; border-radius: 4px; border: 1px solid #bbdefb; background: #e3f2fd\">зовут</span> компания китобизнес удобно говорить</div>"
      ],
      "text/plain": [
       "<IPython.core.display.HTML object>"
      ]
     },
     "metadata": {},
     "output_type": "display_data"
    },
    {
     "name": "stdout",
     "output_type": "stream",
     "text": [
      "Имя менеджера : \n"
     ]
    },
    {
     "data": {
      "text/plain": [
       "'максим'"
      ]
     },
     "metadata": {},
     "output_type": "display_data"
    },
    {
     "name": "stdout",
     "output_type": "stream",
     "text": [
      "Название компании :\n"
     ]
    },
    {
     "data": {
      "text/plain": [
       "'китобизнес'"
      ]
     },
     "metadata": {},
     "output_type": "display_data"
    },
    {
     "name": "stdout",
     "output_type": "stream",
     "text": [
      "Pеплики, где менеджер попрощался :\n"
     ]
    },
    {
     "data": {
      "text/html": [
       "<div class=\"tex2jax_ignore\" style=\"white-space: pre-wrap\">угу все хорошо да понедельника тогда <span style=\"padding: 2px; border-radius: 4px; border: 1px solid #bbdefb; background: #e3f2fd\">всего доброго</span></div>"
      ],
      "text/plain": [
       "<IPython.core.display.HTML object>"
      ]
     },
     "metadata": {},
     "output_type": "display_data"
    },
    {
     "name": "stdout",
     "output_type": "stream",
     "text": [
      "Проверка требование к менеджеру: «необходимо поздороваться и попрощаться с клиентом» :\n",
      "True\n",
      "=====================================================\n",
      "ДИАЛОГ НОМЕР 4\n",
      "Pеплики с приветствием – где менеджер поздоровался:\n",
      "Реплики, где менеджер представил себя :\n",
      "Имя менеджера : \n"
     ]
    },
    {
     "data": {
      "text/plain": [
       "None"
      ]
     },
     "metadata": {},
     "output_type": "display_data"
    },
    {
     "name": "stdout",
     "output_type": "stream",
     "text": [
      "Название компании :\n",
      "Pеплики, где менеджер попрощался :\n"
     ]
    },
    {
     "data": {
      "text/html": [
       "<div class=\"tex2jax_ignore\" style=\"white-space: pre-wrap\">во вторник все ну с вами да тогда до вторника <span style=\"padding: 2px; border-radius: 4px; border: 1px solid #bbdefb; background: #e3f2fd\">до свидания</span></div>"
      ],
      "text/plain": [
       "<IPython.core.display.HTML object>"
      ]
     },
     "metadata": {},
     "output_type": "display_data"
    },
    {
     "name": "stdout",
     "output_type": "stream",
     "text": [
      "Проверка требование к менеджеру: «необходимо поздороваться и попрощаться с клиентом» :\n",
      "False\n",
      "=====================================================\n",
      "ДИАЛОГ НОМЕР 5\n",
      "Pеплики с приветствием – где менеджер поздоровался:\n",
      "Реплики, где менеджер представил себя :\n"
     ]
    },
    {
     "data": {
      "text/html": [
       "<div class=\"tex2jax_ignore\" style=\"white-space: pre-wrap\"><span style=\"padding: 2px; border-radius: 4px; border: 1px solid #bbdefb; background: #e3f2fd\">да это</span> анастасия</div>"
      ],
      "text/plain": [
       "<IPython.core.display.HTML object>"
      ]
     },
     "metadata": {},
     "output_type": "display_data"
    },
    {
     "name": "stdout",
     "output_type": "stream",
     "text": [
      "Имя менеджера : \n"
     ]
    },
    {
     "data": {
      "text/plain": [
       "'анастасия'"
      ]
     },
     "metadata": {},
     "output_type": "display_data"
    },
    {
     "name": "stdout",
     "output_type": "stream",
     "text": [
      "Название компании :\n",
      "Pеплики, где менеджер попрощался :\n"
     ]
    },
    {
     "data": {
      "text/html": [
       "<div class=\"tex2jax_ignore\" style=\"white-space: pre-wrap\">ну <span style=\"padding: 2px; border-radius: 4px; border: 1px solid #bbdefb; background: #e3f2fd\">до свидания</span> <span style=\"padding: 2px; border-radius: 4px; border: 1px solid #bbdefb; background: #e3f2fd\">хорошего вечера</span></div>"
      ],
      "text/plain": [
       "<IPython.core.display.HTML object>"
      ]
     },
     "metadata": {},
     "output_type": "display_data"
    },
    {
     "name": "stdout",
     "output_type": "stream",
     "text": [
      "Проверка требование к менеджеру: «необходимо поздороваться и попрощаться с клиентом» :\n",
      "False\n",
      "=====================================================\n"
     ]
    }
   ],
   "source": [
    "checker = ManagerChecker()\n",
    "checker(df)"
   ]
  },
  {
   "cell_type": "code",
   "execution_count": 12,
   "id": "75efb6b6",
   "metadata": {},
   "outputs": [
    {
     "data": {
      "text/plain": [
       "{0: 'ангелина',\n",
       " 1: 'ангелина',\n",
       " 2: 'ангелина',\n",
       " 3: 'максим',\n",
       " 4: None,\n",
       " 5: 'анастасия'}"
      ]
     },
     "execution_count": 12,
     "metadata": {},
     "output_type": "execute_result"
    }
   ],
   "source": [
    "# имена менеждеров\n",
    "\n",
    "checker.name"
   ]
  },
  {
   "cell_type": "code",
   "execution_count": 13,
   "id": "62f36651",
   "metadata": {
    "scrolled": true
   },
   "outputs": [
    {
     "data": {
      "text/plain": [
       "{0: 'диджитал бизнес',\n",
       " 1: 'диджитал бизнес',\n",
       " 2: 'диджитал бизнес',\n",
       " 3: 'китобизнес',\n",
       " 4: None,\n",
       " 5: None}"
      ]
     },
     "execution_count": 13,
     "metadata": {},
     "output_type": "execute_result"
    }
   ],
   "source": [
    "# названия компаний\n",
    "\n",
    "checker.name_company"
   ]
  },
  {
   "cell_type": "code",
   "execution_count": 14,
   "id": "2ec714d9",
   "metadata": {},
   "outputs": [
    {
     "data": {
      "text/plain": [
       "{0: True, 1: True, 2: False, 3: True, 4: False, 5: False}"
      ]
     },
     "execution_count": 14,
     "metadata": {},
     "output_type": "execute_result"
    }
   ],
   "source": [
    "# Проверка требования к менеджеру\n",
    "\n",
    "checker.checker"
   ]
  },
  {
   "cell_type": "code",
   "execution_count": null,
   "id": "b8de6d77",
   "metadata": {},
   "outputs": [],
   "source": []
  }
 ],
 "metadata": {
  "kernelspec": {
   "display_name": "Python 3 (ipykernel)",
   "language": "python",
   "name": "python3"
  },
  "language_info": {
   "codemirror_mode": {
    "name": "ipython",
    "version": 3
   },
   "file_extension": ".py",
   "mimetype": "text/x-python",
   "name": "python",
   "nbconvert_exporter": "python",
   "pygments_lexer": "ipython3",
   "version": "3.9.7"
  },
  "latex_envs": {
   "LaTeX_envs_menu_present": true,
   "autoclose": false,
   "autocomplete": true,
   "bibliofile": "biblio.bib",
   "cite_by": "apalike",
   "current_citInitial": 1,
   "eqLabelWithNumbers": true,
   "eqNumInitial": 1,
   "hotkeys": {
    "equation": "Ctrl-E",
    "itemize": "Ctrl-I"
   },
   "labels_anchors": false,
   "latex_user_defs": false,
   "report_style_numbering": false,
   "user_envs_cfg": false
  },
  "toc": {
   "base_numbering": 1,
   "nav_menu": {},
   "number_sections": true,
   "sideBar": true,
   "skip_h1_title": false,
   "title_cell": "Table of Contents",
   "title_sidebar": "Contents",
   "toc_cell": true,
   "toc_position": {},
   "toc_section_display": true,
   "toc_window_display": true
  }
 },
 "nbformat": 4,
 "nbformat_minor": 5
}
